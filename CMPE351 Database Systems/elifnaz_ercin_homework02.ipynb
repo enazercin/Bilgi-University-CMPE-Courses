{
 "cells": [
  {
   "cell_type": "code",
   "execution_count": 1,
   "metadata": {},
   "outputs": [
    {
     "name": "stdout",
     "output_type": "stream",
     "text": [
      "Collecting pymysql\n",
      "  Downloading PyMySQL-1.0.2-py3-none-any.whl (43 kB)\n",
      "Installing collected packages: pymysql\n",
      "Successfully installed pymysql-1.0.2\n",
      "Note: you may need to restart the kernel to use updated packages.\n"
     ]
    }
   ],
   "source": [
    "pip install pymysql"
   ]
  },
  {
   "cell_type": "code",
   "execution_count": 4,
   "metadata": {},
   "outputs": [],
   "source": [
    "import pymysql.cursors"
   ]
  },
  {
   "cell_type": "code",
   "execution_count": 10,
   "metadata": {
    "scrolled": true
   },
   "outputs": [],
   "source": [
    "connection = pymysql.connect(host='localhost',\n",
    "                            user='root',\n",
    "                            password='990052',\n",
    "                            cursorclass=pymysql.cursors.DictCursor)"
   ]
  },
  {
   "cell_type": "code",
   "execution_count": 11,
   "metadata": {},
   "outputs": [],
   "source": [
    "def print_table(table):\n",
    "    _col = table[0].keys()\n",
    "    _col = [str(V).ljust(15) for v in _col]\n",
    "    print(' '.join(_col))\n",
    "    \n",
    "    for ins in table:\n",
    "        _val = [str(v).ljust(15) for v in ins.values()]\n",
    "        print(' '.join(_val))"
   ]
  },
  {
   "cell_type": "code",
   "execution_count": 12,
   "metadata": {},
   "outputs": [],
   "source": [
    "with connection.cursor() as cursor:\n",
    "    cursor.execute(\"CREATE SCHEMA IF NOT EXISTS Bank;\")\n",
    "    cursor.execute(\"Use Bank;\")\n",
    "    cursor.execute(\"DROP TABLE Loan;\")\n",
    "    cursor.execute(\"DROP TABLE Customer;\")\n",
    "    cursor.execute(\"DROP TABLE Branch;\")\n",
    "    cursor.execute(\"CREATE TABLE IF NOT EXISTS Customer(customer_id int, name varchar(32), lastname varchar(32), registiration_date date, score int)\")\n",
    "    cursor.execute(\"CREATE TABLE IF NOT EXISTS Branch(branch_id int, branch_name varchar(32), cash_fold float, foundation_date date, liability float)\")\n",
    "    cursor.execute(\"CREATE TABLE IF NOT EXISTS Loan(loan_id int, amount float, customer_id int, branch_id int, PRIMARY KEY (loan_id))\")\n",
    "    sql1=\"INSERT INTO Customer(customer_id,name,lastname,registration_date,score) VALUES (%s,%s,%s,%s,%s);\"\n",
    "    vall1=[(1, 'Pelin', 'A',)]"
   ]
  },
  {
   "cell_type": "code",
   "execution_count": null,
   "metadata": {},
   "outputs": [],
   "source": []
  }
 ],
 "metadata": {
  "kernelspec": {
   "display_name": "Python 3",
   "language": "python",
   "name": "python3"
  },
  "language_info": {
   "codemirror_mode": {
    "name": "ipython",
    "version": 3
   },
   "file_extension": ".py",
   "mimetype": "text/x-python",
   "name": "python",
   "nbconvert_exporter": "python",
   "pygments_lexer": "ipython3",
   "version": "3.8.5"
  }
 },
 "nbformat": 4,
 "nbformat_minor": 4
}
